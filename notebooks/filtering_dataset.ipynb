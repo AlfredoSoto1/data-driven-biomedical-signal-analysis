{
 "cells": [
  {
   "cell_type": "code",
   "execution_count": 1,
   "metadata": {},
   "outputs": [],
   "source": [
    "#This notebook has the purpose of identifying common IDs between the MIMIC-IV-ECG: Diagnostic Electrocardiogram Matched Subset and the Database Selection MIMIC-V Clinical Database\n",
    "# The objective is to connect the demographic information of patients to their ECG, obtaining both qualitative and quantitative information of patients. "
   ]
  },
  {
   "cell_type": "code",
   "execution_count": 2,
   "metadata": {},
   "outputs": [],
   "source": [
    "import pandas as pd\n",
    "import matplotlib.pyplot as plt\n",
    "import numpy as np\n",
    "from IPython.display import display"
   ]
  },
  {
   "cell_type": "code",
   "execution_count": 3,
   "metadata": {},
   "outputs": [],
   "source": [
    "# Load both CSV files\n",
    "record_list_path = r\"C:\\biomedical-signal-analysis-reasearch\\data-driven-biomedical-signal-analysis\\data\\data_csv\\record_list.csv\" #from ECG DB\n",
    "patients_path = r\"C:\\biomedical-signal-analysis-reasearch\\data-driven-biomedical-signal-analysis\\data\\data_csv\\patients.csv\" #from Clinical DB"
   ]
  },
  {
   "cell_type": "code",
   "execution_count": 4,
   "metadata": {},
   "outputs": [],
   "source": [
    "# Read CSVs\n",
    "record_list_df = pd.read_csv(record_list_path, dtype=str)  \n",
    "patients_df = pd.read_csv(patients_path, dtype=str)\n"
   ]
  },
  {
   "cell_type": "code",
   "execution_count": 5,
   "metadata": {},
   "outputs": [],
   "source": [
    "#The first column contains patient IDs\n",
    "record_id_column = record_list_df.columns[0]  \n",
    "patient_id_column = patients_df.columns[0]  "
   ]
  },
  {
   "cell_type": "code",
   "execution_count": 6,
   "metadata": {},
   "outputs": [],
   "source": [
    "# Extract unique IDs from both files\n",
    "record_ids = set(record_list_df[record_id_column])\n",
    "patient_ids = set(patients_df[patient_id_column])\n"
   ]
  },
  {
   "cell_type": "code",
   "execution_count": 7,
   "metadata": {},
   "outputs": [],
   "source": [
    "#Find common IDs using intersection of sets\n",
    "common_ids=record_ids.intersection(patient_ids)\n"
   ]
  },
  {
   "cell_type": "code",
   "execution_count": 8,
   "metadata": {},
   "outputs": [],
   "source": [
    "# Filter datasets to only include common IDs\n",
    "filtered_records = record_list_df[record_list_df[record_id_column].isin(common_ids)]\n",
    "filtered_patients = patients_df[patients_df[patient_id_column].isin(common_ids)]"
   ]
  },
  {
   "cell_type": "code",
   "execution_count": 9,
   "metadata": {},
   "outputs": [],
   "source": [
    "# Save filtered files\n",
    "filtered_records_path = r\"C:\\biomedical-signal-analysis-reasearch\\data-driven-biomedical-signal-analysis\\data\\data_csv\\filtered_record_list.csv\"\n",
    "filtered_patients_path = r\"C:\\biomedical-signal-analysis-reasearch\\data-driven-biomedical-signal-analysis\\data\\data_csv\\filtered_patients.csv\"\n",
    "filtered_records.to_csv(filtered_records_path, index=False)\n",
    "filtered_patients.to_csv(filtered_patients_path, index=False)"
   ]
  },
  {
   "cell_type": "code",
   "execution_count": 10,
   "metadata": {},
   "outputs": [],
   "source": [
    "# Read CSVs\n",
    "filtered_patients = pd.read_csv(filtered_patients_path, dtype=str)\n",
    "filtered_records = pd.read_csv(filtered_records_path, dtype=str)"
   ]
  },
  {
   "cell_type": "code",
   "execution_count": 11,
   "metadata": {},
   "outputs": [],
   "source": [
    "# The second column contains the patients gender\n",
    "patient_gender_column = filtered_patients.columns[1] "
   ]
  },
  {
   "cell_type": "code",
   "execution_count": 12,
   "metadata": {},
   "outputs": [],
   "source": [
    "# Check number of patients that are male and number of patients that are female\n",
    "df_male = filtered_patients[filtered_patients[patient_gender_column] == \"M\"]\n",
    "df_female = filtered_patients[filtered_patients[patient_gender_column] == \"F\"]\n",
    "\n",
    "amount_of_female_patients = df_female.__len__() #39\n",
    "amount_of_male_patients = df_male.__len__() #53\n"
   ]
  }
 ],
 "metadata": {
  "kernelspec": {
   "display_name": "base",
   "language": "python",
   "name": "python3"
  },
  "language_info": {
   "codemirror_mode": {
    "name": "ipython",
    "version": 3
   },
   "file_extension": ".py",
   "mimetype": "text/x-python",
   "name": "python",
   "nbconvert_exporter": "python",
   "pygments_lexer": "ipython3",
   "version": "3.12.7"
  },
  "orig_nbformat": 4,
  "vscode": {
   "interpreter": {
    "hash": "02d1f14e0e71086afc4fa92cc521483525d989038c92b7122eb265cae47bdf76"
   }
  }
 },
 "nbformat": 4,
 "nbformat_minor": 2
}
