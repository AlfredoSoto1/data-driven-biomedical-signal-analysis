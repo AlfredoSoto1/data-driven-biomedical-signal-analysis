{
 "cells": [
  {
   "cell_type": "code",
   "execution_count": 35,
   "metadata": {},
   "outputs": [],
   "source": [
    "#This notebook has the purpose of identifying common IDs between the MIMIC-IV-ECG: Diagnostic Electrocardiogram Matched Subset and the Database Selection MIMIC-V Clinical Database\n"
   ]
  },
  {
   "cell_type": "code",
   "execution_count": 36,
   "metadata": {},
   "outputs": [],
   "source": [
    "import pandas as pd"
   ]
  },
  {
   "cell_type": "code",
   "execution_count": 37,
   "metadata": {},
   "outputs": [],
   "source": [
    "# Load both CSV files\n",
    "record_list_path = r\"C:\\biomedical-signal-analysis-reasearch\\data-driven-biomedical-signal-analysis\\data\\data_csv\\record_list.csv\" #from ECG DB\n",
    "patients_path = r\"C:\\biomedical-signal-analysis-reasearch\\data-driven-biomedical-signal-analysis\\data\\data_csv\\patients.csv\" #from Clinical DB"
   ]
  },
  {
   "cell_type": "code",
   "execution_count": 38,
   "metadata": {},
   "outputs": [],
   "source": [
    "# Read CSVs\n",
    "record_list_df = pd.read_csv(record_list_path, dtype=str)  # Ensures all data is read as string\n",
    "patients_df = pd.read_csv(patients_path, dtype=str)\n"
   ]
  },
  {
   "cell_type": "code",
   "execution_count": 39,
   "metadata": {},
   "outputs": [],
   "source": [
    "# Assuming the first column contains patient IDs\n",
    "record_id_column = record_list_df.columns[0]  # Adjust if necessary\n",
    "patient_id_column = patients_df.columns[0]  # Adjust if necessary"
   ]
  },
  {
   "cell_type": "code",
   "execution_count": 40,
   "metadata": {},
   "outputs": [],
   "source": [
    "# Extract unique IDs from both files\n",
    "record_ids = set(record_list_df[record_id_column])\n",
    "patient_ids = set(patients_df[patient_id_column])\n"
   ]
  },
  {
   "cell_type": "code",
   "execution_count": 41,
   "metadata": {},
   "outputs": [],
   "source": [
    "#Find common IDs using intersection of sets\n",
    "common_ids=record_ids.intersection(patient_ids)\n"
   ]
  },
  {
   "cell_type": "code",
   "execution_count": 42,
   "metadata": {},
   "outputs": [],
   "source": [
    "# Filter datasets to only include common IDs\n",
    "filtered_records = record_list_df[record_list_df[record_id_column].isin(common_ids)]\n",
    "filtered_patients = patients_df[patients_df[patient_id_column].isin(common_ids)]"
   ]
  },
  {
   "cell_type": "code",
   "execution_count": 45,
   "metadata": {},
   "outputs": [],
   "source": [
    "# Save filtered files\n",
    "filtered_records_path = r\"C:\\biomedical-signal-analysis-reasearch\\data-driven-biomedical-signal-analysis\\data\\data_csv\\filtered_record_list.csv\"\n",
    "filtered_patients_path = r\"C:\\biomedical-signal-analysis-reasearch\\data-driven-biomedical-signal-analysis\\data\\data_csv\\filtered_patients.csv\"\n",
    "filtered_records.to_csv(filtered_records_path, index=False)\n",
    "filtered_patients.to_csv(filtered_patients_path, index=False)"
   ]
  }
 ],
 "metadata": {
  "kernelspec": {
   "display_name": "base",
   "language": "python",
   "name": "python3"
  },
  "language_info": {
   "codemirror_mode": {
    "name": "ipython",
    "version": 3
   },
   "file_extension": ".py",
   "mimetype": "text/x-python",
   "name": "python",
   "nbconvert_exporter": "python",
   "pygments_lexer": "ipython3",
   "version": "3.12.7"
  },
  "orig_nbformat": 4,
  "vscode": {
   "interpreter": {
    "hash": "02d1f14e0e71086afc4fa92cc521483525d989038c92b7122eb265cae47bdf76"
   }
  }
 },
 "nbformat": 4,
 "nbformat_minor": 2
}
