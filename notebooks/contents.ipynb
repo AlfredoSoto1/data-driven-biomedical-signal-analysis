{
 "cells": [
  {
   "cell_type": "markdown",
   "id": "8cbfb827",
   "metadata": {},
   "source": [
    "# Biomedical Signal Analysis For Stress Detection\n",
    "\n",
    "##### This notebook focuses on analyzing and preprocessing physiological signals from two sources: the **MIMIC-IV Database** and a **Wearable Device Dataset**. Both datasets provide rich biosignal information that can be leveraged to study stress detection. The signals were preprocessed using a bandpass filter to remove noise. A regression model was then developed to estimate stress levels based on the cleaned physiological data.\n",
    "\n",
    "## Table of Contents\n",
    "1. Dataset Overview\n",
    "    - MIMIC-IV\n",
    "    - Wearable Devices\n",
    "2. Data Preprocessing\n",
    "    - Signal Filtering for the MIMIC-IV Dataset\n",
    "    - Signal Filtering for the Wearable Devices Dataset\n",
    "3. Modeling"
   ]
  }
 ],
 "metadata": {
  "language_info": {
   "name": "python"
  }
 },
 "nbformat": 4,
 "nbformat_minor": 5
}
